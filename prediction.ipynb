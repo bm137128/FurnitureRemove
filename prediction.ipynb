{
 "cells": [
  {
   "cell_type": "code",
   "execution_count": 1,
   "metadata": {},
   "outputs": [
    {
     "name": "stderr",
     "output_type": "stream",
     "text": [
      "Using TensorFlow backend.\n"
     ]
    }
   ],
   "source": [
    "import os\n",
    "from copy import deepcopy\n",
    "import numpy as np\n",
    "import matplotlib.pyplot as plt\n",
    "from PIL import Image\n",
    "import cv2\n",
    "from tqdm import tqdm\n",
    "import copy\n",
    "\n",
    "from PConv.libs.pconv_model import PConvUnet\n",
    "from PConv.libs.util import MaskGenerator, ImageChunker\n",
    "\n",
    "%load_ext autoreload\n",
    "%autoreload 2"
   ]
  },
  {
   "cell_type": "markdown",
   "metadata": {},
   "source": [
    "#  Model  Loading"
   ]
  },
  {
   "cell_type": "code",
   "execution_count": 3,
   "metadata": {},
   "outputs": [],
   "source": [
    "model = PConvUnet(vgg_weights=None, inference_only=True)\n",
    "model.load('./PConv/pretrained_models/pconv_imagenet.26-1.07.h5', train_bn=False)"
   ]
  },
  {
   "cell_type": "markdown",
   "metadata": {},
   "source": [
    "# Useful Function Declaration"
   ]
  },
  {
   "cell_type": "code",
   "execution_count": 4,
   "metadata": {},
   "outputs": [],
   "source": [
    "# Used for chunking up images & stiching them back together\n",
    "chunker = ImageChunker(512, 512, 30)\n",
    "\n",
    "def plot_images(images, s=5):\n",
    "    _, axes = plt.subplots(1, len(images), figsize=(s*len(images), s))\n",
    "    if len(images) == 1:\n",
    "        axes = [axes]\n",
    "    for img, ax in zip(images, axes):\n",
    "        ax.imshow(img)\n",
    "    plt.show()"
   ]
  },
  {
   "cell_type": "markdown",
   "metadata": {},
   "source": [
    "#  Image  Path Declaration"
   ]
  },
  {
   "cell_type": "code",
   "execution_count": 11,
   "metadata": {},
   "outputs": [],
   "source": [
    "path = os.path.join('masks')\n",
    "\n",
    "img_path = {}\n",
    "\n",
    "for r, d, f in os.walk(path):\n",
    "    for file in f:\n",
    "        if file == '.DS_Store':\n",
    "            continue\n",
    "        img_name = file.split('.')[0][:18]\n",
    "        img_path[img_name] = os.path.join('ADE20K_2016_07_26', 'images', 'training', 'b', 'bedroom', img_name + '.jpg')"
   ]
  },
  {
   "cell_type": "markdown",
   "metadata": {},
   "source": [
    "# Mask Path Declaration"
   ]
  },
  {
   "cell_type": "code",
   "execution_count": 13,
   "metadata": {},
   "outputs": [],
   "source": [
    "path = os.path.join('masks')\n",
    "\n",
    "msk_path = {}\n",
    "\n",
    "for r, d, f in os.walk(path):\n",
    "    for file in f:\n",
    "        if file == '.DS_Store':\n",
    "            continue\n",
    "        img_name = file.split('.')[0][:18]\n",
    "        if img_name in msk_path:\n",
    "            msk_path[img_name].append(os.path.join(r, file))\n",
    "        else:\n",
    "            msk_path[img_name]  =  [os.path.join(r, file)]"
   ]
  },
  {
   "cell_type": "markdown",
   "metadata": {},
   "source": [
    "# Prediction"
   ]
  },
  {
   "cell_type": "code",
   "execution_count": 36,
   "metadata": {},
   "outputs": [
    {
     "name": "stderr",
     "output_type": "stream",
     "text": [
      "100%|██████████| 208/208 [1:12:29<00:00, 22.98s/it]\n"
     ]
    }
   ],
   "source": [
    "for img_name in  tqdm(img_path):\n",
    "    \n",
    "    # Load image\n",
    "    img = np.array(Image.open(img_path[img_name]).resize((512, 512))) / 255\n",
    "    \n",
    "    if not os.path.exists(os.path.join('results', img_name)):\n",
    "        os.makedirs(os.path.join('results', img_name))\n",
    "    \n",
    "    img_id = 0\n",
    "    for msk in msk_path[img_name]:\n",
    "        \n",
    "        # Load mask\n",
    "        mask = np.array(Image.open(msk).resize((512, 512))) / 255\n",
    "\n",
    "        # Image + mask\n",
    "        masked_img = copy.deepcopy(img)\n",
    "        masked_img[mask==0] = 1\n",
    "        \n",
    "        # Process sample\n",
    "        chunked_images = chunker.dimension_preprocess(deepcopy(img))\n",
    "        chunked_masks = chunker.dimension_preprocess(deepcopy(mask))\n",
    "        pred_imgs = model.predict([chunked_images, chunked_masks])\n",
    "        reconstructed_image = chunker.dimension_postprocess(pred_imgs, img)\n",
    "        \n",
    "        # Save results\n",
    "        cv2.imwrite(os.path.join('results', img_name, str(img_id) + '.jpg'), cv2.cvtColor(pred_imgs[0]*255, cv2.COLOR_RGB2BGR))\n",
    "        cv2.imwrite(os.path.join('results', img_name, str(img_id) + '_mask.png'), chunked_masks[0]*255)\n",
    "        \n",
    "        img_id += 1"
   ]
  },
  {
   "cell_type": "code",
   "execution_count": null,
   "metadata": {},
   "outputs": [],
   "source": []
  }
 ],
 "metadata": {
  "kernelspec": {
   "display_name": "Python 3",
   "language": "python",
   "name": "python3"
  },
  "language_info": {
   "codemirror_mode": {
    "name": "ipython",
    "version": 3
   },
   "file_extension": ".py",
   "mimetype": "text/x-python",
   "name": "python",
   "nbconvert_exporter": "python",
   "pygments_lexer": "ipython3",
   "version": "3.5.0"
  }
 },
 "nbformat": 4,
 "nbformat_minor": 2
}
